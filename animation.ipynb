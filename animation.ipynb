{
 "cells": [
  {
   "cell_type": "code",
   "execution_count": 46,
   "id": "16f6c04f",
   "metadata": {},
   "outputs": [],
   "source": [
    "#with single color\n",
    "import turtle\n",
    "#setting background color\n",
    "turtle.bgcolor(\"skyblue\")\n",
    "\n",
    "#pensize\n",
    "turtle.pensize(3)\n",
    "\n",
    "#speed of the turtle\n",
    "turtle.speed(0.1)\n",
    "\n",
    "for a in range(50):\n",
    "    turtle.color(\"black\")\n",
    "    turtle.circle(100)\n",
    "    turtle.left(10)\n",
    "    \n",
    "turtle.mainloop()"
   ]
  },
  {
   "cell_type": "code",
   "execution_count": 42,
   "id": "6ba72408",
   "metadata": {},
   "outputs": [],
   "source": [
    "#with multiple color\n",
    "import turtle\n",
    "#setting background color\n",
    "turtle.bgcolor(\"pink\")\n",
    "\n",
    "#pensize\n",
    "turtle.pensize(3)\n",
    "\n",
    "#speed of the turtle\n",
    "turtle.speed(0.1)\n",
    "\n",
    "#color \n",
    "color = [\"red\",\"yellow\",\"orange\",\"blue\",\"purple\"]\n",
    "for a in range(10):\n",
    "    for i in color:\n",
    "        turtle.color(i)\n",
    "        turtle.circle(100)\n",
    "        turtle.left(10)\n",
    "    \n",
    "turtle.mainloop()"
   ]
  },
  {
   "cell_type": "code",
   "execution_count": 3,
   "id": "81cab036",
   "metadata": {},
   "outputs": [],
   "source": [
    "#import turtle library\n",
    "import  turtle\n",
    "#list for storing color\n",
    "mycolor=[\"red\",\"blue\",\"yellow\",\"green\",\"orange\"]\n",
    "#set background to black\n",
    "turtle.bgcolor(\"black\")\n",
    "#set pencolor to orange\n",
    "turtle.pencolor(\"yellow\")\n",
    "turtle.color(\"yellow\",\"green\")\n",
    "#change pen shape\n",
    "turtle.shape(\"turtle\")\n",
    "turtle.pensize(10)\n",
    "j=0\n",
    "for i in range(5):\n",
    "    #set color for each line\n",
    "    turtle.pencolor(mycolor[j])\n",
    "    j+=1\n",
    "    turtle.forward(200)\n",
    "    turtle.right(144)\n",
    "turtle.done()"
   ]
  },
  {
   "cell_type": "code",
   "execution_count": 5,
   "id": "68db0b42",
   "metadata": {},
   "outputs": [
    {
     "ename": "Terminator",
     "evalue": "",
     "output_type": "error",
     "traceback": [
      "\u001b[1;31m---------------------------------------------------------------------------\u001b[0m",
      "\u001b[1;31mTerminator\u001b[0m                                Traceback (most recent call last)",
      "\u001b[1;32m<ipython-input-5-a9a9c094c19d>\u001b[0m in \u001b[0;36m<module>\u001b[1;34m\u001b[0m\n\u001b[0;32m     19\u001b[0m         \u001b[0mt\u001b[0m\u001b[1;33m.\u001b[0m\u001b[0mforward\u001b[0m\u001b[1;33m(\u001b[0m\u001b[0mx\u001b[0m\u001b[1;33m)\u001b[0m\u001b[1;33m\u001b[0m\u001b[1;33m\u001b[0m\u001b[0m\n\u001b[0;32m     20\u001b[0m         \u001b[0mt\u001b[0m\u001b[1;33m.\u001b[0m\u001b[0mleft\u001b[0m\u001b[1;33m(\u001b[0m\u001b[1;36m59\u001b[0m\u001b[1;33m)\u001b[0m\u001b[1;33m\u001b[0m\u001b[1;33m\u001b[0m\u001b[0m\n\u001b[1;32m---> 21\u001b[1;33m \u001b[0mmyFun\u001b[0m\u001b[1;33m(\u001b[0m\u001b[1;33m)\u001b[0m\u001b[1;33m\u001b[0m\u001b[1;33m\u001b[0m\u001b[0m\n\u001b[0m\u001b[0;32m     22\u001b[0m \u001b[0mtime\u001b[0m\u001b[1;33m.\u001b[0m\u001b[0msleep\u001b[0m\u001b[1;33m(\u001b[0m\u001b[1;36m5\u001b[0m\u001b[1;33m)\u001b[0m\u001b[1;33m\u001b[0m\u001b[1;33m\u001b[0m\u001b[0m\n",
      "\u001b[1;32m<ipython-input-5-a9a9c094c19d>\u001b[0m in \u001b[0;36mmyFun\u001b[1;34m()\u001b[0m\n\u001b[0;32m     18\u001b[0m         \u001b[0mt\u001b[0m\u001b[1;33m.\u001b[0m\u001b[0mpensize\u001b[0m\u001b[1;33m(\u001b[0m\u001b[0mx\u001b[0m\u001b[1;33m/\u001b[0m\u001b[1;36m50\u001b[0m\u001b[1;33m)\u001b[0m\u001b[1;33m\u001b[0m\u001b[1;33m\u001b[0m\u001b[0m\n\u001b[0;32m     19\u001b[0m         \u001b[0mt\u001b[0m\u001b[1;33m.\u001b[0m\u001b[0mforward\u001b[0m\u001b[1;33m(\u001b[0m\u001b[0mx\u001b[0m\u001b[1;33m)\u001b[0m\u001b[1;33m\u001b[0m\u001b[1;33m\u001b[0m\u001b[0m\n\u001b[1;32m---> 20\u001b[1;33m         \u001b[0mt\u001b[0m\u001b[1;33m.\u001b[0m\u001b[0mleft\u001b[0m\u001b[1;33m(\u001b[0m\u001b[1;36m59\u001b[0m\u001b[1;33m)\u001b[0m\u001b[1;33m\u001b[0m\u001b[1;33m\u001b[0m\u001b[0m\n\u001b[0m\u001b[0;32m     21\u001b[0m \u001b[0mmyFun\u001b[0m\u001b[1;33m(\u001b[0m\u001b[1;33m)\u001b[0m\u001b[1;33m\u001b[0m\u001b[1;33m\u001b[0m\u001b[0m\n\u001b[0;32m     22\u001b[0m \u001b[0mtime\u001b[0m\u001b[1;33m.\u001b[0m\u001b[0msleep\u001b[0m\u001b[1;33m(\u001b[0m\u001b[1;36m5\u001b[0m\u001b[1;33m)\u001b[0m\u001b[1;33m\u001b[0m\u001b[1;33m\u001b[0m\u001b[0m\n",
      "\u001b[1;32m~\\anaconda3\\lib\\turtle.py\u001b[0m in \u001b[0;36mleft\u001b[1;34m(angle)\u001b[0m\n",
      "\u001b[1;31mTerminator\u001b[0m: "
     ]
    }
   ],
   "source": [
    "import  turtle\n",
    "import  time\n",
    "#defining function\n",
    "def myFun():\n",
    "    #list for storing colors\n",
    "    mycolors=[\"red\",\"blue\",\"green\",\"yellow\",\"orange\",\"brown\"]\n",
    "    #creating turtle variable\n",
    "    t=turtle\n",
    "    #setting pensize \n",
    "    t.pensize(5)\n",
    "    #setting background color\n",
    "    t.bgcolor('black')\n",
    "    #setting speed of drawing\n",
    "    t.speed(1000)\n",
    "    #loop for creating design\n",
    "    for x in range(360):\n",
    "        t.pencolor(mycolors[x%len(mycolors)])\n",
    "        t.pensize(x/50)\n",
    "        t.forward(x)\n",
    "        t.left(59)\n",
    "myFun()\n",
    "time.sleep(5)"
   ]
  },
  {
   "cell_type": "code",
   "execution_count": null,
   "id": "2b0f5274",
   "metadata": {},
   "outputs": [],
   "source": []
  }
 ],
 "metadata": {
  "kernelspec": {
   "display_name": "Python 3",
   "language": "python",
   "name": "python3"
  },
  "language_info": {
   "codemirror_mode": {
    "name": "ipython",
    "version": 3
   },
   "file_extension": ".py",
   "mimetype": "text/x-python",
   "name": "python",
   "nbconvert_exporter": "python",
   "pygments_lexer": "ipython3",
   "version": "3.8.8"
  }
 },
 "nbformat": 4,
 "nbformat_minor": 5
}
