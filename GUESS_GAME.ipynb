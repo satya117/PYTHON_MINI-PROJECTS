{
 "cells": [
  {
   "cell_type": "code",
   "execution_count": 1,
   "id": "0c836787",
   "metadata": {},
   "outputs": [
    {
     "name": "stdout",
     "output_type": "stream",
     "text": [
      "Enter lower bound: 25\n",
      "Enter upper bound: 100\n",
      "\n",
      "\t You've only  6  chances to guess the integer!\n",
      "\n",
      "Guess a number: 36\n",
      "You guessed too small\n",
      "Guess a number: 25\n",
      "You guessed too small\n",
      "Guess a number: 10\n",
      "You guessed too small\n",
      "Guess a number: 56\n",
      "You guessed too small\n",
      "Guess a number: 80\n",
      "You guessed too small\n",
      "Guess a number: 90\n",
      "You guessed to high!\n",
      "Guess a number: 85\n",
      "You guessed too small\n",
      "\n",
      " The number is 86 \n",
      "\n",
      "\t Better luck nest time!\n"
     ]
    }
   ],
   "source": [
    "#importing required modules\n",
    "import random \n",
    "import math \n",
    "\n",
    "#user choice of lower bound and upperbound\n",
    "lower_bound = int(input(\"Enter lower bound: \"))\n",
    "upper_bound = int(input(\"Enter upper bound: \"))\n",
    "\n",
    "#generating random number betwwen \n",
    "#lower bound and upper bound\n",
    "\n",
    "rand_num = random.randint(lower_bound,upper_bound)\n",
    "\n",
    "#print(rand_num)\n",
    "\n",
    "#min number of guessing depends on the range of lower and upper bound\n",
    "# chances = log(upper-lower+1) to the base   2\n",
    "\n",
    "print(\"\\n\\t You've only \",round(math.log(upper_bound-lower_bound+1,2)),\" chances to guess the integer!\\n\")\n",
    "\n",
    "#intiliasing number of guessing \n",
    "guess_count = 0\n",
    "\n",
    "while guess_count < math.log(upper_bound-lower_bound+1,2):\n",
    "    guess_count = guess_count+1\n",
    "    user_guess  = int(input(\"Guess a number: \"))\n",
    "    \n",
    "    #Condition Testing\n",
    "    if rand_num == user_guess:\n",
    "        print(\"Congratulations you did it in \",guess_count,\"Try!\")\n",
    "        #once guessed maths the random number generated break the loop \n",
    "        break\n",
    "    elif rand_num > user_guess:\n",
    "        print(\"You guessed too small\")\n",
    "    elif rand_num < user_guess:\n",
    "        print(\"You guessed to high!\")\n",
    "    \n",
    "#if number guesses exceed the number chances then display a msg\n",
    "\n",
    "if guess_count >= math.log(upper_bound-lower_bound+1,2):\n",
    "    print(\"\\n The number is %d \" %rand_num)\n",
    "    print(\"\\n\\t Better luck nest time!\")\n"
   ]
  },
  {
   "cell_type": "code",
   "execution_count": null,
   "id": "afc73104",
   "metadata": {},
   "outputs": [],
   "source": []
  }
 ],
 "metadata": {
  "kernelspec": {
   "display_name": "Python 3",
   "language": "python",
   "name": "python3"
  },
  "language_info": {
   "codemirror_mode": {
    "name": "ipython",
    "version": 3
   },
   "file_extension": ".py",
   "mimetype": "text/x-python",
   "name": "python",
   "nbconvert_exporter": "python",
   "pygments_lexer": "ipython3",
   "version": "3.8.8"
  }
 },
 "nbformat": 4,
 "nbformat_minor": 5
}
