{
 "cells": [
  {
   "cell_type": "code",
   "execution_count": null,
   "id": "d58c1a8c",
   "metadata": {},
   "outputs": [],
   "source": [
    "!pip install qrcode"
   ]
  },
  {
   "cell_type": "markdown",
   "id": "e897fa12",
   "metadata": {},
   "source": [
    "QR code generation is simple. Just pass the text, link, or any content to ‘make’ function of QRcode module."
   ]
  },
  {
   "cell_type": "code",
   "execution_count": null,
   "id": "01a99188",
   "metadata": {},
   "outputs": [],
   "source": [
    "#qrcode for youtube\n",
    "import qrcode\n",
    "img = qrcode.make(\"http://www.youtube.com/\")\n",
    "img.save(\"youtubeQr.jpg\")"
   ]
  },
  {
   "cell_type": "code",
   "execution_count": null,
   "id": "259a6356",
   "metadata": {},
   "outputs": [],
   "source": [
    "img"
   ]
  },
  {
   "cell_type": "markdown",
   "id": "9481b9c9",
   "metadata": {},
   "source": [
    "It's not necessary to always give a link in qrcode.make() func.\n",
    "- We can enter text into it."
   ]
  },
  {
   "cell_type": "code",
   "execution_count": null,
   "id": "ff815562",
   "metadata": {},
   "outputs": [],
   "source": [
    "import qrcode\n",
    "img = qrcode.make(\"Hey,Myself Satya.Fell in love with Python\")\n",
    "img.save(\"My_Qrcode.jpg\")"
   ]
  },
  {
   "cell_type": "code",
   "execution_count": null,
   "id": "51147535",
   "metadata": {},
   "outputs": [],
   "source": [
    "img"
   ]
  },
  {
   "cell_type": "markdown",
   "id": "ad15ea09",
   "metadata": {},
   "source": [
    "- But what if we want to read this QR Code i.e., now we want to know what was encoded in the QR Code without scanning it. \n",
    "- For this, we will use OpenCV. OpenCV is a library of programming functions focused on real-time computer vision tasks.\n",
    "\n"
   ]
  },
  {
   "cell_type": "code",
   "execution_count": null,
   "id": "97cf39bd",
   "metadata": {},
   "outputs": [],
   "source": [
    "!pip install opencv-python"
   ]
  },
  {
   "cell_type": "code",
   "execution_count": null,
   "id": "c76c258c",
   "metadata": {},
   "outputs": [],
   "source": [
    "import cv2\n",
    "d = cv2.QRCodeDetector()\n",
    "\n",
    "text= d.detectAndDecode(cv2.imread(\"My_Qrcode.jpg\"))\n",
    "print(\"Decoded text is: \",text[0])"
   ]
  }
 ],
 "metadata": {
  "kernelspec": {
   "display_name": "Python 3",
   "language": "python",
   "name": "python3"
  },
  "language_info": {
   "codemirror_mode": {
    "name": "ipython",
    "version": 3
   },
   "file_extension": ".py",
   "mimetype": "text/x-python",
   "name": "python",
   "nbconvert_exporter": "python",
   "pygments_lexer": "ipython3",
   "version": "3.8.8"
  }
 },
 "nbformat": 4,
 "nbformat_minor": 5
}
